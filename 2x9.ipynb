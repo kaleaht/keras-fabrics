{
 "cells": [
  {
   "cell_type": "code",
   "execution_count": 1,
   "metadata": {},
   "outputs": [
    {
     "name": "stderr",
     "output_type": "stream",
     "text": [
      "Using TensorFlow backend.\n"
     ]
    }
   ],
   "source": [
    "%load_ext autoreload\n",
    "%autoreload\n",
    "from IPython.core.debugger import Tracer\n",
    "\n",
    "from keras.layers import Input, Add, Conv2D\n",
    "import numpy as np\n",
    "from keras.models import Model\n",
    "from keras.optimizers import Adam\n",
    "from fabrics import UpSample, DownSample, SameRes, Fabric, Node\n",
    "from keras import backend as K\n",
    "from keras.utils import plot_model\n",
    "\n",
    "from helpers import plot_model_history\n",
    "from IPython.display import clear_output\n",
    "import matplotlib.pyplot as plt\n",
    "from keras.preprocessing.image import ImageDataGenerator\n",
    "\n",
    "%matplotlib inline"
   ]
  },
  {
   "cell_type": "code",
   "execution_count": 58,
   "metadata": {},
   "outputs": [
    {
     "name": "stdout",
     "output_type": "stream",
     "text": [
      "Found 1500 images belonging to 1 classes.\n",
      "Found 1500 images belonging to 1 classes.\n",
      "Found 0 images belonging to 0 classes.\n",
      "Found 0 images belonging to 0 classes.\n"
     ]
    }
   ],
   "source": [
    "def img_func(img):\n",
    "    std = 71.802\n",
    "    mean = 96.84\n",
    "    img -= mean\n",
    "    img /= std\n",
    "    \n",
    "    return img\n",
    "\n",
    "def img_mask_func(img):\n",
    "    img /= 255\n",
    "    return img\n",
    "\n",
    "seed = 1\n",
    "\n",
    "image_datagen = ImageDataGenerator(\n",
    "        preprocessing_function=img_func,\n",
    "        horizontal_flip = True,\n",
    "        fill_mode = \"constant\",\n",
    "        cval=0)\n",
    "\n",
    "mask_datagen = ImageDataGenerator(\n",
    "        preprocessing_function=img_mask_func,\n",
    "        horizontal_flip = True,\n",
    "        fill_mode = \"constant\",\n",
    "        cval=0)\n",
    "\n",
    "image_generator = image_datagen.flow_from_directory(\n",
    "    'data/parts_train/',\n",
    "    target_size=(256, 256),\n",
    "    class_mode=None,\n",
    "    batch_size=100,\n",
    "    seed=seed)\n",
    "\n",
    "mask_generator = mask_datagen.flow_from_directory(\n",
    "    'data/parts_train_labels/',\n",
    "    target_size=(256, 256),\n",
    "    class_mode=None,\n",
    "    color_mode='rgb',\n",
    "    batch_size=100,\n",
    "    seed=seed)\n",
    "\n",
    "train_generator = zip(image_generator, mask_generator)"
   ]
  },
  {
   "cell_type": "code",
   "execution_count": 61,
   "metadata": {},
   "outputs": [
    {
     "name": "stdout",
     "output_type": "stream",
     "text": [
      "Plotting model\n",
      "------------------------------\n"
     ]
    }
   ],
   "source": [
    "#x = np.load('data/parts_train.npy')\n",
    "#y = np.load('data/parts_train_labels.npy')\n",
    "\n",
    "#x_val = np.load('data/parts_validation.npy')\n",
    "#y_val = np.load('data/parts_validation_labels.npy')\n",
    "\n",
    "fabric = Fabric((256,256,3), (2, 9), 4, channels_double=False)\n",
    "\n",
    "print(\"Plotting model\")\n",
    "#plot_model(fabric.model, to_file='images/2x9.png')\n",
    "print(\"-\"*30)"
   ]
  },
  {
   "cell_type": "code",
   "execution_count": 62,
   "metadata": {},
   "outputs": [
    {
     "name": "stdout",
     "output_type": "stream",
     "text": [
      "------------------------------\n",
      "Fitting model...\n",
      "------------------------------\n",
      "Epoch 1/60\n",
      "30/30 [==============================] - 85s - loss: 1.1756 - acc: 0.5628    \n",
      "Epoch 2/60\n",
      "30/30 [==============================] - 67s - loss: 1.1712 - acc: 0.5639    \n",
      "Epoch 3/60\n",
      "30/30 [==============================] - 65s - loss: 1.1688 - acc: 0.5649    \n",
      "Epoch 4/60\n",
      "30/30 [==============================] - 62s - loss: 1.1654 - acc: 0.5656    \n",
      "Epoch 5/60\n",
      "30/30 [==============================] - 54s - loss: 1.1618 - acc: 0.5667    \n",
      "Epoch 6/60\n",
      "30/30 [==============================] - 65s - loss: 1.1588 - acc: 0.5676    \n",
      "Epoch 7/60\n",
      "30/30 [==============================] - 66s - loss: 1.1563 - acc: 0.5681    \n",
      "Epoch 8/60\n",
      "30/30 [==============================] - 65s - loss: 1.1524 - acc: 0.5691    \n",
      "Epoch 9/60\n",
      "30/30 [==============================] - 70s - loss: 1.1494 - acc: 0.5703    \n",
      "Epoch 10/60\n",
      "30/30 [==============================] - 89s - loss: 1.1464 - acc: 0.5706    \n",
      "Epoch 11/60\n",
      "30/30 [==============================] - 92s - loss: 1.1436 - acc: 0.5711    \n",
      "Epoch 12/60\n",
      "30/30 [==============================] - 81s - loss: 1.1397 - acc: 0.5728    \n",
      "Epoch 13/60\n",
      "30/30 [==============================] - 87s - loss: 1.1371 - acc: 0.5730    \n",
      "Epoch 14/60\n",
      "30/30 [==============================] - 79s - loss: 1.1336 - acc: 0.5745    \n",
      "Epoch 15/60\n",
      "30/30 [==============================] - 66s - loss: 1.1314 - acc: 0.5741    \n",
      "Epoch 16/60\n",
      "30/30 [==============================] - 62s - loss: 1.1283 - acc: 0.5752    \n",
      "Epoch 17/60\n",
      "30/30 [==============================] - 64s - loss: 1.1253 - acc: 0.5759    \n",
      "Epoch 18/60\n",
      "30/30 [==============================] - 66s - loss: 1.1229 - acc: 0.5760    \n",
      "Epoch 19/60\n",
      "30/30 [==============================] - 67s - loss: 1.1196 - acc: 0.5771    \n",
      "Epoch 20/60\n",
      "30/30 [==============================] - 67s - loss: 1.1167 - acc: 0.5777    \n",
      "Epoch 21/60\n",
      "30/30 [==============================] - 67s - loss: 1.1159 - acc: 0.5773    \n",
      "Epoch 22/60\n",
      "30/30 [==============================] - 66s - loss: 1.1105 - acc: 0.5795    \n",
      "Epoch 23/60\n",
      "30/30 [==============================] - 66s - loss: 1.1101 - acc: 0.5786    \n",
      "Epoch 24/60\n",
      "30/30 [==============================] - 67s - loss: 1.1063 - acc: 0.5801    \n",
      "Epoch 25/60\n",
      "30/30 [==============================] - 65s - loss: 1.1039 - acc: 0.5807    \n",
      "Epoch 26/60\n",
      "30/30 [==============================] - 64s - loss: 1.1005 - acc: 0.5815    \n",
      "Epoch 27/60\n",
      "30/30 [==============================] - 63s - loss: 1.0981 - acc: 0.5821    \n",
      "Epoch 28/60\n",
      "30/30 [==============================] - 60s - loss: 1.0956 - acc: 0.5823    \n",
      "Epoch 29/60\n",
      "30/30 [==============================] - 62s - loss: 1.0928 - acc: 0.5833    \n",
      "Epoch 30/60\n",
      "30/30 [==============================] - 66s - loss: 1.0897 - acc: 0.5846    \n",
      "Epoch 31/60\n",
      "30/30 [==============================] - 70s - loss: 1.0878 - acc: 0.5836    \n",
      "Epoch 32/60\n",
      "30/30 [==============================] - 62s - loss: 1.0844 - acc: 0.5851    \n",
      "Epoch 33/60\n",
      "30/30 [==============================] - 67s - loss: 1.0814 - acc: 0.5857    \n",
      "Epoch 34/60\n",
      "30/30 [==============================] - 64s - loss: 1.0788 - acc: 0.5861    \n",
      "Epoch 35/60\n",
      "30/30 [==============================] - 63s - loss: 1.0756 - acc: 0.5874    \n",
      "Epoch 36/60\n",
      "30/30 [==============================] - 68s - loss: 1.0742 - acc: 0.5869    \n",
      "Epoch 37/60\n",
      "30/30 [==============================] - 69s - loss: 1.0693 - acc: 0.5891    \n",
      "Epoch 38/60\n",
      "30/30 [==============================] - 67s - loss: 1.0679 - acc: 0.5886    \n",
      "Epoch 39/60\n",
      "30/30 [==============================] - 68s - loss: 1.0643 - acc: 0.5907    \n",
      "Epoch 40/60\n",
      "30/30 [==============================] - 74s - loss: 1.0624 - acc: 0.5908    \n",
      "Epoch 41/60\n",
      "30/30 [==============================] - 79s - loss: 1.0593 - acc: 0.5925    \n",
      "Epoch 42/60\n",
      "30/30 [==============================] - 66s - loss: 1.0572 - acc: 0.5935    \n",
      "Epoch 43/60\n",
      "30/30 [==============================] - 64s - loss: 1.0533 - acc: 0.5954    \n",
      "Epoch 44/60\n",
      "30/30 [==============================] - 65s - loss: 1.0531 - acc: 0.5954    \n",
      "Epoch 45/60\n",
      "30/30 [==============================] - 85s - loss: 1.0488 - acc: 0.5979    \n",
      "Epoch 46/60\n",
      "30/30 [==============================] - 68s - loss: 1.0464 - acc: 0.6001    \n",
      "Epoch 47/60\n",
      "30/30 [==============================] - 67s - loss: 1.0440 - acc: 0.6008    \n",
      "Epoch 48/60\n",
      "30/30 [==============================] - 65s - loss: 1.0426 - acc: 0.6021    \n",
      "Epoch 49/60\n",
      "30/30 [==============================] - 67s - loss: 1.0393 - acc: 0.6052    \n",
      "Epoch 50/60\n",
      "30/30 [==============================] - 63s - loss: 1.0375 - acc: 0.6060    \n",
      "Epoch 51/60\n",
      "30/30 [==============================] - 61s - loss: 1.0355 - acc: 0.6084    \n",
      "Epoch 52/60\n",
      "30/30 [==============================] - 58s - loss: 1.0329 - acc: 0.6097    \n",
      "Epoch 53/60\n",
      "30/30 [==============================] - 53s - loss: 1.0297 - acc: 0.6121    \n",
      "Epoch 54/60\n",
      "30/30 [==============================] - 63s - loss: 1.0286 - acc: 0.6130    \n",
      "Epoch 55/60\n",
      "30/30 [==============================] - 60s - loss: 1.0266 - acc: 0.6150    \n",
      "Epoch 56/60\n",
      "30/30 [==============================] - 61s - loss: 1.0236 - acc: 0.6173    \n",
      "Epoch 57/60\n",
      "30/30 [==============================] - 63s - loss: 1.0217 - acc: 0.6182    \n",
      "Epoch 58/60\n",
      "30/30 [==============================] - 59s - loss: 1.0191 - acc: 0.6207    \n",
      "Epoch 59/60\n",
      "30/30 [==============================] - 63s - loss: 1.0172 - acc: 0.6228    \n",
      "Epoch 60/60\n",
      "30/30 [==============================] - 62s - loss: 1.0148 - acc: 0.6253    \n"
     ]
    }
   ],
   "source": [
    "print('-'*30)\n",
    "print('Fitting model...')\n",
    "print('-'*30)\n",
    "history = fabric.model.fit_generator(\n",
    "                           train_generator,\n",
    "                           steps_per_epoch=30,\n",
    "                           epochs=60, \n",
    "                           verbose=1,\n",
    "                           #validation_data=validation_generator,\n",
    "                           #validation_steps=800\n",
    "                           shuffle=True)\n"
   ]
  },
  {
   "cell_type": "code",
   "execution_count": 70,
   "metadata": {},
   "outputs": [
    {
     "data": {
      "image/png": "[encoded data removed]",
      "text/plain": [
       "<matplotlib.figure.Figure at 0x7fa49e9c9f60>"
      ]
     },
     "metadata": {},
     "output_type": "display_data"
    }
   ],
   "source": [
    "plt.plot(history.history['loss'])\n",
    "plt.show()"
   ]
  },
  {
   "cell_type": "code",
   "execution_count": 71,
   "metadata": {},
   "outputs": [
    {
     "data": {
      "image/png": "[encoded data removed]",
      "text/plain": [
       "<matplotlib.figure.Figure at 0x7fa49e9b58d0>"
      ]
     },
     "metadata": {},
     "output_type": "display_data"
    }
   ],
   "source": [
    "plt.plot(history.history['acc'])\n",
    "plt.show()"
   ]
  },
  {
   "cell_type": "code",
   "execution_count": 72,
   "metadata": {},
   "outputs": [
    {
     "name": "stdout",
     "output_type": "stream",
     "text": [
      "Found 500 images belonging to 1 classes.\n",
      "Found 500 images belonging to 1 classes.\n"
     ]
    }
   ],
   "source": [
    "image_datagen_v = ImageDataGenerator(\n",
    "        preprocessing_function=img_func,\n",
    "        horizontal_flip = True,\n",
    "        fill_mode = \"constant\",\n",
    "        cval=0)\n",
    "\n",
    "mask_datagen_v = ImageDataGenerator(\n",
    "        preprocessing_function=img_mask_func,\n",
    "        horizontal_flip = True,\n",
    "        fill_mode = \"constant\",\n",
    "        cval=0)\n",
    "\n",
    "image_generator_v = image_datagen_v.flow_from_directory(\n",
    "    'data/parts_validation/',\n",
    "    batch_size=100,\n",
    "    target_size=(256, 256),\n",
    "    class_mode=None)\n",
    "\n",
    "mask_generator_v = mask_datagen_v.flow_from_directory(\n",
    "    'data/parts_validation_labels/',\n",
    "    batch_size=100,\n",
    "    target_size=(256, 256),\n",
    "    class_mode=None)\n",
    "\n",
    "v_generator = zip(image_generator_v, mask_generator_v)"
   ]
  },
  {
   "cell_type": "code",
   "execution_count": 76,
   "metadata": {},
   "outputs": [
    {
     "name": "stdout",
     "output_type": "stream",
     "text": [
      "Epoch 1/1\n",
      "30/30 [==============================] - 132s - loss: 1.0126 - acc: 0.6270 - val_loss: 0.9895 - val_acc: 0.6345\n"
     ]
    }
   ],
   "source": [
    "history2 = fabric.model.fit_generator(\n",
    "                           train_generator,\n",
    "                           steps_per_epoch=30,\n",
    "                           epochs=1, \n",
    "                           verbose=1,\n",
    "                           validation_data=v_generator,\n",
    "                           validation_steps=10,\n",
    "                           shuffle=True)"
   ]
  },
  {
   "cell_type": "code",
   "execution_count": 78,
   "metadata": {},
   "outputs": [
    {
     "name": "stdout",
     "output_type": "stream",
     "text": [
      "Epoch 1/20\n",
      "30/30 [==============================] - 103s - loss: 1.0129 - acc: 0.6275 - val_loss: 0.9866 - val_acc: 0.6365\n",
      "Epoch 2/20\n",
      "30/30 [==============================] - 77s - loss: 1.0078 - acc: 0.6321 - val_loss: 0.9817 - val_acc: 0.6405\n",
      "Epoch 3/20\n",
      "30/30 [==============================] - 75s - loss: 1.0059 - acc: 0.6336 - val_loss: 0.9796 - val_acc: 0.6435\n",
      "Epoch 4/20\n",
      "30/30 [==============================] - 76s - loss: 1.0046 - acc: 0.6353 - val_loss: 0.9829 - val_acc: 0.6420\n",
      "Epoch 5/20\n",
      "30/30 [==============================] - 78s - loss: 1.0020 - acc: 0.6388 - val_loss: 0.9768 - val_acc: 0.6462\n",
      "Epoch 6/20\n",
      "30/30 [==============================] - 76s - loss: 0.9995 - acc: 0.6404 - val_loss: 0.9744 - val_acc: 0.6490\n",
      "Epoch 7/20\n",
      "30/30 [==============================] - 79s - loss: 0.9989 - acc: 0.6421 - val_loss: 0.9766 - val_acc: 0.6478\n",
      "Epoch 8/20\n",
      "30/30 [==============================] - 79s - loss: 0.9950 - acc: 0.6458 - val_loss: 0.9701 - val_acc: 0.6528\n",
      "Epoch 9/20\n",
      "30/30 [==============================] - 78s - loss: 0.9933 - acc: 0.6475 - val_loss: 0.9666 - val_acc: 0.6552\n",
      "Epoch 10/20\n",
      "30/30 [==============================] - 79s - loss: 0.9917 - acc: 0.6499 - val_loss: 0.9657 - val_acc: 0.6567\n",
      "Epoch 11/20\n",
      "30/30 [==============================] - 79s - loss: 0.9915 - acc: 0.6508 - val_loss: 0.9688 - val_acc: 0.6582\n",
      "Epoch 12/20\n",
      "30/30 [==============================] - 78s - loss: 0.9880 - acc: 0.6539 - val_loss: 0.9607 - val_acc: 0.6605\n",
      "Epoch 13/20\n",
      "30/30 [==============================] - 80s - loss: 0.9873 - acc: 0.6558 - val_loss: 0.9667 - val_acc: 0.6599\n",
      "Epoch 14/20\n",
      "30/30 [==============================] - 78s - loss: 0.9850 - acc: 0.6584 - val_loss: 0.9625 - val_acc: 0.6630\n",
      "Epoch 15/20\n",
      "30/30 [==============================] - 74s - loss: 0.9836 - acc: 0.6598 - val_loss: 0.9607 - val_acc: 0.6654\n",
      "Epoch 16/20\n",
      "30/30 [==============================] - 74s - loss: 0.9816 - acc: 0.6620 - val_loss: 0.9568 - val_acc: 0.6684\n",
      "Epoch 17/20\n",
      "30/30 [==============================] - 74s - loss: 0.9808 - acc: 0.6641 - val_loss: 0.9613 - val_acc: 0.6677\n",
      "Epoch 18/20\n",
      "30/30 [==============================] - 77s - loss: 0.9788 - acc: 0.6658 - val_loss: 0.9573 - val_acc: 0.6697\n",
      "Epoch 19/20\n",
      "30/30 [==============================] - 76s - loss: 0.9770 - acc: 0.6673 - val_loss: 0.9558 - val_acc: 0.6750\n",
      "Epoch 20/20\n",
      "30/30 [==============================] - 76s - loss: 0.9757 - acc: 0.6686 - val_loss: 0.9563 - val_acc: 0.6737\n"
     ]
    }
   ],
   "source": [
    "history3 = fabric.model.fit_generator(\n",
    "                           train_generator,\n",
    "                           steps_per_epoch=30,\n",
    "                           epochs=20, \n",
    "                           verbose=1,\n",
    "                           validation_data=v_generator,\n",
    "                           validation_steps=10,\n",
    "                           shuffle=True)"
   ]
  },
  {
   "cell_type": "code",
   "execution_count": 80,
   "metadata": {},
   "outputs": [
    {
     "name": "stdout",
     "output_type": "stream",
     "text": [
      "Epoch 1/20\n",
      "30/30 [==============================] - 102s - loss: 0.9755 - acc: 0.6708 - val_loss: 0.9573 - val_acc: 0.6748\n",
      "Epoch 2/20\n",
      "30/30 [==============================] - 78s - loss: 0.9731 - acc: 0.6718 - val_loss: 0.9508 - val_acc: 0.6769\n",
      "Epoch 3/20\n",
      "30/30 [==============================] - 75s - loss: 0.9711 - acc: 0.6753 - val_loss: 0.9553 - val_acc: 0.6778\n",
      "Epoch 4/20\n",
      "30/30 [==============================] - 78s - loss: 0.9737 - acc: 0.6731 - val_loss: 0.9515 - val_acc: 0.6816\n",
      "Epoch 5/20\n",
      "30/30 [==============================] - 78s - loss: 0.9678 - acc: 0.6783 - val_loss: 0.9505 - val_acc: 0.6806\n",
      "Epoch 6/20\n",
      "30/30 [==============================] - 76s - loss: 0.9667 - acc: 0.6785 - val_loss: 0.9504 - val_acc: 0.6794\n",
      "Epoch 7/20\n",
      "30/30 [==============================] - 73s - loss: 0.9680 - acc: 0.6784 - val_loss: 0.9456 - val_acc: 0.6838\n",
      "Epoch 8/20\n",
      "30/30 [==============================] - 71s - loss: 0.9687 - acc: 0.6790 - val_loss: 0.9498 - val_acc: 0.6824\n",
      "Epoch 9/20\n",
      "30/30 [==============================] - 75s - loss: 0.9611 - acc: 0.6830 - val_loss: 0.9456 - val_acc: 0.6845\n",
      "Epoch 10/20\n",
      "30/30 [==============================] - 71s - loss: 0.9663 - acc: 0.6816 - val_loss: 0.9439 - val_acc: 0.6864\n",
      "Epoch 11/20\n",
      "30/30 [==============================] - 77s - loss: 0.9611 - acc: 0.6843 - val_loss: 0.9450 - val_acc: 0.6867\n",
      "Epoch 12/20\n",
      "30/30 [==============================] - 80s - loss: 0.9637 - acc: 0.6833 - val_loss: 0.9473 - val_acc: 0.6866\n",
      "Epoch 13/20\n",
      "30/30 [==============================] - 78s - loss: 0.9614 - acc: 0.6840 - val_loss: 0.9481 - val_acc: 0.6851\n",
      "Epoch 14/20\n",
      "30/30 [==============================] - 78s - loss: 0.9570 - acc: 0.6864 - val_loss: 0.9416 - val_acc: 0.6892\n",
      "Epoch 15/20\n",
      "30/30 [==============================] - 76s - loss: 0.9575 - acc: 0.6880 - val_loss: 0.9421 - val_acc: 0.6902\n",
      "Epoch 16/20\n",
      "30/30 [==============================] - 78s - loss: 0.9580 - acc: 0.6875 - val_loss: 0.9422 - val_acc: 0.6918\n",
      "Epoch 17/20\n",
      "30/30 [==============================] - 75s - loss: 0.9549 - acc: 0.6885 - val_loss: 0.9407 - val_acc: 0.6932\n",
      "Epoch 18/20\n",
      "30/30 [==============================] - 77s - loss: 0.9536 - acc: 0.6901 - val_loss: 0.9355 - val_acc: 0.6953\n",
      "Epoch 19/20\n",
      "30/30 [==============================] - 77s - loss: 0.9568 - acc: 0.6892 - val_loss: 0.9366 - val_acc: 0.6946\n",
      "Epoch 20/20\n",
      "30/30 [==============================] - 78s - loss: 0.9515 - acc: 0.6920 - val_loss: 0.9368 - val_acc: 0.6949\n"
     ]
    }
   ],
   "source": [
    "history4 = fabric.model.fit_generator(\n",
    "                           train_generator,\n",
    "                           steps_per_epoch=30,\n",
    "                           epochs=20, \n",
    "                           verbose=1,\n",
    "                           validation_data=v_generator,\n",
    "                           validation_steps=10,\n",
    "                           shuffle=True)"
   ]
  },
  {
   "cell_type": "code",
   "execution_count": 81,
   "metadata": {},
   "outputs": [],
   "source": [
    "fabric.model.save('data/2x9.h5')"
   ]
  },
  {
   "cell_type": "code",
   "execution_count": 90,
   "metadata": {},
   "outputs": [
    {
     "data": {
      "image/png": "[encoded data removed]",
      "text/plain": [
       "<matplotlib.figure.Figure at 0x7fa49e0d4a90>"
      ]
     },
     "metadata": {},
     "output_type": "display_data"
    }
   ],
   "source": [
    "plt.plot(np.concatenate([history.history['acc'], history2.history['acc'], history3.history['acc'], history4.history['acc']]))\n",
    "plt.show()"
   ]
  },
  {
   "cell_type": "code",
   "execution_count": 91,
   "metadata": {},
   "outputs": [
    {
     "data": {
      "image/png": "[encoded data removed]",
      "text/plain": [
       "<matplotlib.figure.Figure at 0x7fa49e0ad4a8>"
      ]
     },
     "metadata": {},
     "output_type": "display_data"
    }
   ],
   "source": [
    "plt.plot(np.concatenate([history.history['loss'], history2.history['loss'], history3.history['loss'], history4.history['loss']]))\n",
    "plt.show()"
   ]
  }
 ],
 "metadata": {
  "kernelspec": {
   "display_name": "Python 3",
   "language": "python",
   "name": "python3"
  },
  "language_info": {
   "codemirror_mode": {
    "name": "ipython",
    "version": 3
   },
   "file_extension": ".py",
   "mimetype": "text/x-python",
   "name": "python",
   "nbconvert_exporter": "python",
   "pygments_lexer": "ipython3",
   "version": "3.6.3"
  }
 },
 "nbformat": 4,
 "nbformat_minor": 2
}
