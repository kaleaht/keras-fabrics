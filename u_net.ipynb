{
 "cells": [
  {
   "cell_type": "code",
   "execution_count": 1,
   "metadata": {},
   "outputs": [
    {
     "name": "stderr",
     "output_type": "stream",
     "text": [
      "Using TensorFlow backend.\n"
     ]
    }
   ],
   "source": [
    "%matplotlib inline\n",
    "from __future__ import print_function\n",
    "import os\n",
    "from skimage.transform import resize\n",
    "from skimage.io import imsave\n",
    "import numpy as np\n",
    "from keras.models import Model\n",
    "from keras.layers import Input, concatenate, Conv2D, MaxPooling2D, Conv2DTranspose, BatchNormalization, Add\n",
    "from keras.optimizers import Adam\n",
    "from keras.callbacks import ModelCheckpoint\n",
    "from keras import backend as K\n",
    "from keras.engine.topology import Layer\n",
    "import keras\n",
    "from matplotlib import pyplot as plt\n",
    "from IPython.display import clear_output\n",
    "from helpers import plot_model_history\n",
    "from keras.utils import plot_model\n",
    "from IPython.display import Image as DImage\n",
    "\n",
    "\n",
    "#K.set_image_data_format('channels_last')  # TF dimension ordering in this code\n",
    "\n",
    "#img_rows = 256\n",
    "#img_cols = 256\n",
    "#n_class = 3\n",
    "\n",
    "#smooth = 1."
   ]
  },
  {
   "cell_type": "markdown",
   "metadata": {},
   "source": [
    "## Loading and preprocessing data"
   ]
  },
  {
   "cell_type": "code",
   "execution_count": 2,
   "metadata": {},
   "outputs": [
    {
     "name": "stdout",
     "output_type": "stream",
     "text": [
      "------------------------------\n",
      "Loading and preprocessing train data...\n",
      "------------------------------\n"
     ]
    }
   ],
   "source": [
    "print('-'*30)\n",
    "print('Loading and preprocessing training and validation data...')\n",
    "print('-'*30)\n",
    "\n",
    "path = 'local_data/'\n",
    "\n",
    "imgs_train = np.load(path+'parts_train.npy')\n",
    "imgs_mask_train = np.load(path+'parts_train_labels.npy')\n",
    "\n",
    "#imgs_train = preprocess(imgs_train)\n",
    "#imgs_mask_train = preprocess(imgs_mask_train)\n",
    "\n",
    "imgs_train = imgs_train.astype('float32')\n",
    "mean = np.mean(imgs_train)  # mean for data centering\n",
    "std = np.std(imgs_train)  # std for data normalization\n",
    "\n",
    "imgs_train -= mean\n",
    "imgs_train /= std\n",
    "\n",
    "imgs_mask_train = imgs_mask_train.astype('float32')\n",
    "#imgs_mask_train /= 255.  # scale masks to [0, 1]\n",
    "\n",
    "\n",
    "imgs_validation = np.load(path+'parts_validation.npy')\n",
    "imgs_mask_validation = np.load(path+'parts_validation_labels.npy')\n",
    "\n",
    "imgs_validation -= mean\n",
    "imgs_validation /= std\n",
    "\n",
    "imgs_mask_validation = imgs_mask_validation.astype('float32')\n",
    "#imgs_mask_validation /= 255.  # scale masks to [0, 1]\n",
    "\n"
   ]
  },
  {
   "cell_type": "markdown",
   "metadata": {},
   "source": [
    "## Data augmentation\n",
    "\n",
    "Horizontal flip"
   ]
  },
  {
   "cell_type": "code",
   "execution_count": 3,
   "metadata": {},
   "outputs": [
    {
     "data": {
      "text/plain": [
       "(3000, 256, 256, 3)"
      ]
     },
     "execution_count": 3,
     "metadata": {},
     "output_type": "execute_result"
    }
   ],
   "source": [
    "flip = np.flip(imgs_train, axis=2)\n",
    "flip_mask = np.flip(imgs_mask_train, axis=2)\n",
    "\n",
    "imgs_train = np.concatenate([imgs_train,flip])\n",
    "imgs_mask_train = np.concatenate([imgs_mask_train,flip_mask])"
   ]
  },
  {
   "cell_type": "code",
   "execution_count": 5,
   "metadata": {},
   "outputs": [
    {
     "name": "stdout",
     "output_type": "stream",
     "text": [
      "Train on 3000 samples, validate on 500 samples\n",
      "Epoch 1/20\n",
      "3000/3000 [==============================] - 216s - loss: 1.0448 - acc: 0.5685 - val_loss: 0.9049 - val_acc: 0.6327\n",
      "Epoch 2/20\n",
      "3000/3000 [==============================] - 196s - loss: 0.5527 - acc: 0.7932 - val_loss: 0.5286 - val_acc: 0.8140\n",
      "Epoch 3/20\n",
      "3000/3000 [==============================] - 195s - loss: 0.3718 - acc: 0.8564 - val_loss: 0.3360 - val_acc: 0.8711\n",
      "Epoch 4/20\n",
      "3000/3000 [==============================] - 195s - loss: 0.2824 - acc: 0.8931 - val_loss: 0.2797 - val_acc: 0.8973\n",
      "Epoch 5/20\n",
      "3000/3000 [==============================] - 195s - loss: 0.2381 - acc: 0.9102 - val_loss: 0.2574 - val_acc: 0.9057\n",
      "Epoch 6/20\n",
      "3000/3000 [==============================] - 195s - loss: 0.2098 - acc: 0.9207 - val_loss: 0.2485 - val_acc: 0.9099\n",
      "Epoch 7/20\n",
      "3000/3000 [==============================] - 195s - loss: 0.1881 - acc: 0.9284 - val_loss: 0.2387 - val_acc: 0.9126\n",
      "Epoch 8/20\n",
      "3000/3000 [==============================] - 195s - loss: 0.1742 - acc: 0.9332 - val_loss: 0.2519 - val_acc: 0.9145\n",
      "Epoch 9/20\n",
      "3000/3000 [==============================] - 195s - loss: 0.1627 - acc: 0.9374 - val_loss: 0.2425 - val_acc: 0.9169\n",
      "Epoch 10/20\n",
      "3000/3000 [==============================] - 195s - loss: 0.1544 - acc: 0.9402 - val_loss: 0.2404 - val_acc: 0.9185\n",
      "Epoch 11/20\n",
      "3000/3000 [==============================] - 195s - loss: 0.1476 - acc: 0.9424 - val_loss: 0.2392 - val_acc: 0.9198\n",
      "Epoch 12/20\n",
      "3000/3000 [==============================] - 195s - loss: 0.1405 - acc: 0.9450 - val_loss: 0.2384 - val_acc: 0.9156\n",
      "Epoch 13/20\n",
      "3000/3000 [==============================] - 195s - loss: 0.1341 - acc: 0.9472 - val_loss: 0.2381 - val_acc: 0.9216\n",
      "Epoch 14/20\n",
      "3000/3000 [==============================] - 195s - loss: 0.1281 - acc: 0.9495 - val_loss: 0.2320 - val_acc: 0.9215\n",
      "Epoch 15/20\n",
      "3000/3000 [==============================] - 195s - loss: 0.1228 - acc: 0.9513 - val_loss: 0.2390 - val_acc: 0.9211\n",
      "Epoch 16/20\n",
      "3000/3000 [==============================] - 195s - loss: 0.1194 - acc: 0.9525 - val_loss: 0.2366 - val_acc: 0.9223\n",
      "Epoch 17/20\n",
      "3000/3000 [==============================] - 195s - loss: 0.1140 - acc: 0.9546 - val_loss: 0.2396 - val_acc: 0.9229\n",
      "Epoch 18/20\n",
      "3000/3000 [==============================] - 195s - loss: 0.1101 - acc: 0.9560 - val_loss: 0.2434 - val_acc: 0.9245\n",
      "Epoch 19/20\n",
      "3000/3000 [==============================] - 195s - loss: 0.1064 - acc: 0.9574 - val_loss: 0.2445 - val_acc: 0.9243\n",
      "Epoch 20/20\n",
      "3000/3000 [==============================] - 195s - loss: 0.1029 - acc: 0.9588 - val_loss: 0.2415 - val_acc: 0.9242\n"
     ]
    }
   ],
   "source": [
    "def get_u_net(img_shape, n_class, depth, n_layers=8, filter_shape=(3,3), kernel_shape=(4,4)):\n",
    "    img_rows = img_shape[0]\n",
    "    img_cols = img_shape[1]\n",
    "    inputs = Input((img_rows, img_cols, n_class))\n",
    "    \n",
    "    # array for first half of convolutional layers. \n",
    "    # They are stored so we can use them in the upsampling part.\n",
    "    conv_layers = []\n",
    "\n",
    "    input_h = inputs\n",
    "    #conv = inputs\n",
    "    for i in range(0, depth):\n",
    "        n_layers *= 2\n",
    "        conv = Conv2D(n_layers, filter_shape, activation='relu', padding='same')(input_h)\n",
    "        conv = BatchNormalization()(conv)\n",
    "        conv_layers.insert(0, conv)\n",
    "        input_h = MaxPooling2D(pool_size=(2,2))(conv)\n",
    "\n",
    "    n_layers *= 2\n",
    "    conv = Conv2D(n_layers, filter_shape, activation='relu', padding='same')(input_h)\n",
    "\n",
    "    \n",
    "    for j in range(0, depth):\n",
    "        n_layers = int(n_layers / 2)\n",
    "\n",
    "        conv_trans = Conv2DTranspose(n_layers, kernel_shape, strides=(2, 2), padding='same')(conv)\n",
    "        up = keras.layers.add([conv_trans, conv_layers[j]])\n",
    "        conv = Conv2D(n_layers, filter_shape, activation='relu', padding='same')(up)\n",
    "        #conv = BatchNormalization()(conv)\n",
    "\n",
    "    conv = Conv2D(n_class, (1, 1), activation='softmax')(conv)\n",
    "\n",
    "    model = Model(inputs=[inputs], outputs=[conv])\n",
    "    model.compile(optimizer=Adam(lr=1e-5), loss=\"categorical_crossentropy\", metrics=['accuracy'])\n",
    "\n",
    "    return model\n",
    "\n",
    "model = get_u_net((256,256),3,8)\n",
    "\n",
    "\n",
    "plot_model(model, to_file='images/u_net.png')\n",
    "\n",
    "\n",
    "history = model.fit(imgs_train, \n",
    "                    imgs_mask_train, \n",
    "                    #validation_split=0.2,\n",
    "                    validation_data=(imgs_validation, imgs_mask_validation),\n",
    "                    batch_size=16, \n",
    "                    epochs=20, \n",
    "                    verbose=1, \n",
    "                    shuffle=True)"
   ]
  },
  {
   "cell_type": "code",
   "execution_count": 7,
   "metadata": {},
   "outputs": [
    {
     "data": {
      "image/png": "[encoded data removed]",
      "text/plain": [
       "<matplotlib.figure.Figure at 0x7f4f4e9a2780>"
      ]
     },
     "metadata": {},
     "output_type": "display_data"
    }
   ],
   "source": [
    "from helpers import plot_model_history\n",
    "\n",
    "plot_model_history(history)"
   ]
  },
  {
   "cell_type": "code",
   "execution_count": null,
   "metadata": {},
   "outputs": [],
   "source": [
    "model.save('trained_models/u_net.h5')"
   ]
  }
 ],
 "metadata": {
  "kernelspec": {
   "display_name": "Python 3",
   "language": "python",
   "name": "python3"
  },
  "language_info": {
   "codemirror_mode": {
    "name": "ipython",
    "version": 3
   },
   "file_extension": ".py",
   "mimetype": "text/x-python",
   "name": "python",
   "nbconvert_exporter": "python",
   "pygments_lexer": "ipython3",
   "version": "3.6.3"
  }
 },
 "nbformat": 4,
 "nbformat_minor": 2
}
