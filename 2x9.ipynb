{
 "cells": [
  {
   "cell_type": "code",
   "execution_count": 1,
   "metadata": {},
   "outputs": [
    {
     "name": "stderr",
     "output_type": "stream",
     "text": [
      "Using TensorFlow backend.\n"
     ]
    }
   ],
   "source": [
    "%load_ext autoreload\n",
    "%autoreload\n",
    "from IPython.core.debugger import Tracer\n",
    "\n",
    "from keras.layers import Input, Add, Conv2D\n",
    "import numpy as np\n",
    "from keras.models import Model\n",
    "from keras.optimizers import Adam\n",
    "from fabrics import UpSample, DownSample, SameRes, Fabric, Node\n",
    "from keras import backend as K\n",
    "from keras.utils import plot_model\n",
    "\n",
    "from helpers import plot_model_history\n",
    "from IPython.display import clear_output\n",
    "import matplotlib.pyplot as plt\n",
    "\n",
    "%matplotlib inline"
   ]
  },
  {
   "cell_type": "code",
   "execution_count": 2,
   "metadata": {},
   "outputs": [
    {
     "name": "stdout",
     "output_type": "stream",
     "text": [
      "Plotting model\n",
      "------------------------------\n"
     ]
    }
   ],
   "source": [
    "x = np.load('data/parts_train.npy')\n",
    "y = np.load('data/parts_train_labels.npy')\n",
    "\n",
    "x_val = np.load('data/parts_validation.npy')\n",
    "y_val = np.load('data/parts_validation_labels.npy')\n",
    "\n",
    "fabric = Fabric(x.shape[1:], (2, 9), 4, channels_double=False)\n",
    "\n",
    "print(\"Plotting model\")\n",
    "plot_model(fabric.model, to_file='images/2x9.png')\n",
    "print(\"-\"*30)"
   ]
  },
  {
   "cell_type": "code",
   "execution_count": 3,
   "metadata": {},
   "outputs": [
    {
     "name": "stdout",
     "output_type": "stream",
     "text": [
      "------------------------------\n",
      "Fitting model...\n",
      "------------------------------\n",
      "Train on 1500 samples, validate on 500 samples\n",
      "Epoch 1/60\n",
      "1500/1500 [==============================] - 19s - loss: 1.5993 - acc: 0.4086 - val_loss: 1.0731 - val_acc: 0.6718\n",
      "Epoch 2/60\n",
      "1500/1500 [==============================] - 15s - loss: 1.5945 - acc: 0.4104 - val_loss: 1.0503 - val_acc: 0.6774\n",
      "Epoch 3/60\n",
      "1500/1500 [==============================] - 15s - loss: 1.5891 - acc: 0.4121 - val_loss: 1.0314 - val_acc: 0.6790\n",
      "Epoch 4/60\n",
      "1500/1500 [==============================] - 15s - loss: 1.5831 - acc: 0.4143 - val_loss: 1.0156 - val_acc: 0.6791\n",
      "Epoch 5/60\n",
      "1500/1500 [==============================] - 15s - loss: 1.5773 - acc: 0.4162 - val_loss: 1.0025 - val_acc: 0.6789\n",
      "Epoch 6/60\n",
      "1500/1500 [==============================] - 15s - loss: 1.5717 - acc: 0.4175 - val_loss: 0.9919 - val_acc: 0.6783\n",
      "Epoch 7/60\n",
      "1500/1500 [==============================] - 15s - loss: 1.5662 - acc: 0.4198 - val_loss: 0.9836 - val_acc: 0.6769\n",
      "Epoch 8/60\n",
      "1500/1500 [==============================] - 15s - loss: 1.5602 - acc: 0.4212 - val_loss: 0.9775 - val_acc: 0.6752\n",
      "Epoch 9/60\n",
      "1500/1500 [==============================] - 16s - loss: 1.5540 - acc: 0.4229 - val_loss: 0.9735 - val_acc: 0.6730\n",
      "Epoch 10/60\n",
      "1500/1500 [==============================] - 15s - loss: 1.5471 - acc: 0.4240 - val_loss: 0.9715 - val_acc: 0.6700\n",
      "Epoch 11/60\n",
      "1500/1500 [==============================] - 15s - loss: 1.5408 - acc: 0.4256 - val_loss: 0.9713 - val_acc: 0.6663\n",
      "Epoch 12/60\n",
      "1500/1500 [==============================] - 15s - loss: 1.5344 - acc: 0.4277 - val_loss: 0.9730 - val_acc: 0.6619\n",
      "Epoch 13/60\n",
      "1500/1500 [==============================] - 15s - loss: 1.5286 - acc: 0.4290 - val_loss: 0.9764 - val_acc: 0.6559\n",
      "Epoch 14/60\n",
      "1500/1500 [==============================] - 15s - loss: 1.5224 - acc: 0.4307 - val_loss: 0.9815 - val_acc: 0.6482\n",
      "Epoch 15/60\n",
      "1500/1500 [==============================] - 15s - loss: 1.5159 - acc: 0.4321 - val_loss: 0.9884 - val_acc: 0.6394\n",
      "Epoch 16/60\n",
      "1500/1500 [==============================] - 15s - loss: 1.5089 - acc: 0.4340 - val_loss: 0.9967 - val_acc: 0.6290\n",
      "Epoch 17/60\n",
      "1500/1500 [==============================] - 15s - loss: 1.5008 - acc: 0.4361 - val_loss: 1.0066 - val_acc: 0.6168\n",
      "Epoch 18/60\n",
      "1500/1500 [==============================] - 15s - loss: 1.4947 - acc: 0.4381 - val_loss: 1.0176 - val_acc: 0.6029\n",
      "Epoch 19/60\n",
      "1500/1500 [==============================] - 15s - loss: 1.4871 - acc: 0.4411 - val_loss: 1.0294 - val_acc: 0.5876\n",
      "Epoch 20/60\n",
      "1500/1500 [==============================] - 15s - loss: 1.4771 - acc: 0.4439 - val_loss: 1.0420 - val_acc: 0.5717\n",
      "Epoch 21/60\n",
      "1500/1500 [==============================] - 16s - loss: 1.4680 - acc: 0.4477 - val_loss: 1.0548 - val_acc: 0.5549\n",
      "Epoch 22/60\n",
      "1500/1500 [==============================] - 16s - loss: 1.4570 - acc: 0.4514 - val_loss: 1.0677 - val_acc: 0.5327\n",
      "Epoch 23/60\n",
      "1500/1500 [==============================] - 15s - loss: 1.4466 - acc: 0.4555 - val_loss: 1.0806 - val_acc: 0.5188\n",
      "Epoch 24/60\n",
      "1500/1500 [==============================] - 15s - loss: 1.4362 - acc: 0.4604 - val_loss: 1.0935 - val_acc: 0.5078\n",
      "Epoch 25/60\n",
      "1500/1500 [==============================] - 15s - loss: 1.4259 - acc: 0.4650 - val_loss: 1.1065 - val_acc: 0.4995\n",
      "Epoch 26/60\n",
      "1500/1500 [==============================] - 15s - loss: 1.4161 - acc: 0.4718 - val_loss: 1.1192 - val_acc: 0.4928\n",
      "Epoch 27/60\n",
      "1500/1500 [==============================] - 15s - loss: 1.4079 - acc: 0.4764 - val_loss: 1.1303 - val_acc: 0.4884\n",
      "Epoch 28/60\n",
      "1500/1500 [==============================] - 15s - loss: 1.4013 - acc: 0.4786 - val_loss: 1.1384 - val_acc: 0.4864\n",
      "Epoch 29/60\n",
      "1500/1500 [==============================] - 15s - loss: 1.3959 - acc: 0.4801 - val_loss: 1.1452 - val_acc: 0.4854\n",
      "Epoch 30/60\n",
      "1500/1500 [==============================] - 15s - loss: 1.3911 - acc: 0.4809 - val_loss: 1.1513 - val_acc: 0.4856\n",
      "Epoch 31/60\n",
      "1500/1500 [==============================] - 15s - loss: 1.3870 - acc: 0.4824 - val_loss: 1.1570 - val_acc: 0.4863\n",
      "Epoch 32/60\n",
      "1500/1500 [==============================] - 15s - loss: 1.3829 - acc: 0.4831 - val_loss: 1.1627 - val_acc: 0.4877\n",
      "Epoch 33/60\n",
      "1500/1500 [==============================] - 15s - loss: 1.3783 - acc: 0.4844 - val_loss: 1.1691 - val_acc: 0.4913\n",
      "Epoch 34/60\n",
      "1500/1500 [==============================] - 15s - loss: 1.3745 - acc: 0.4854 - val_loss: 1.1758 - val_acc: 0.4930\n",
      "Epoch 35/60\n",
      "1500/1500 [==============================] - 15s - loss: 1.3711 - acc: 0.4860 - val_loss: 1.1829 - val_acc: 0.4946\n",
      "Epoch 36/60\n",
      "1500/1500 [==============================] - 15s - loss: 1.3672 - acc: 0.4872 - val_loss: 1.1900 - val_acc: 0.4984\n",
      "Epoch 37/60\n",
      "1500/1500 [==============================] - 15s - loss: 1.3636 - acc: 0.4883 - val_loss: 1.1971 - val_acc: 0.5006\n",
      "Epoch 38/60\n",
      "1500/1500 [==============================] - 16s - loss: 1.3603 - acc: 0.4891 - val_loss: 1.2044 - val_acc: 0.5023\n",
      "Epoch 39/60\n",
      "1500/1500 [==============================] - 15s - loss: 1.3567 - acc: 0.4901 - val_loss: 1.2116 - val_acc: 0.5042\n",
      "Epoch 40/60\n",
      "1500/1500 [==============================] - 15s - loss: 1.3536 - acc: 0.4909 - val_loss: 1.2187 - val_acc: 0.5055\n",
      "Epoch 41/60\n",
      "1500/1500 [==============================] - 16s - loss: 1.3494 - acc: 0.4919 - val_loss: 1.2258 - val_acc: 0.5060\n",
      "Epoch 42/60\n",
      "1500/1500 [==============================] - 15s - loss: 1.3468 - acc: 0.4921 - val_loss: 1.2328 - val_acc: 0.5065\n",
      "Epoch 43/60\n",
      "1500/1500 [==============================] - 15s - loss: 1.3440 - acc: 0.4930 - val_loss: 1.2395 - val_acc: 0.5068\n",
      "Epoch 44/60\n",
      "1500/1500 [==============================] - 15s - loss: 1.3408 - acc: 0.4937 - val_loss: 1.2461 - val_acc: 0.5067\n",
      "Epoch 45/60\n",
      "1500/1500 [==============================] - 15s - loss: 1.3372 - acc: 0.4948 - val_loss: 1.2526 - val_acc: 0.5064\n",
      "Epoch 46/60\n",
      "1500/1500 [==============================] - 15s - loss: 1.3341 - acc: 0.4955 - val_loss: 1.2587 - val_acc: 0.5060\n",
      "Epoch 47/60\n",
      "1500/1500 [==============================] - 15s - loss: 1.3311 - acc: 0.4962 - val_loss: 1.2645 - val_acc: 0.5054\n",
      "Epoch 48/60\n",
      "1500/1500 [==============================] - 15s - loss: 1.3283 - acc: 0.4969 - val_loss: 1.2698 - val_acc: 0.5049\n",
      "Epoch 49/60\n",
      "1500/1500 [==============================] - 15s - loss: 1.3253 - acc: 0.4976 - val_loss: 1.2747 - val_acc: 0.5044\n",
      "Epoch 50/60\n",
      "1500/1500 [==============================] - 15s - loss: 1.3227 - acc: 0.4982 - val_loss: 1.2789 - val_acc: 0.5040\n",
      "Epoch 51/60\n",
      "1500/1500 [==============================] - 15s - loss: 1.3203 - acc: 0.4990 - val_loss: 1.2827 - val_acc: 0.5036\n",
      "Epoch 52/60\n",
      "1500/1500 [==============================] - 15s - loss: 1.3167 - acc: 0.4997 - val_loss: 1.2860 - val_acc: 0.5032\n",
      "Epoch 53/60\n",
      "1500/1500 [==============================] - 15s - loss: 1.3141 - acc: 0.5002 - val_loss: 1.2887 - val_acc: 0.5028\n",
      "Epoch 54/60\n",
      "1500/1500 [==============================] - 15s - loss: 1.3112 - acc: 0.5010 - val_loss: 1.2909 - val_acc: 0.5026\n",
      "Epoch 55/60\n",
      "1500/1500 [==============================] - 15s - loss: 1.3088 - acc: 0.5018 - val_loss: 1.2925 - val_acc: 0.5024\n",
      "Epoch 56/60\n",
      "1500/1500 [==============================] - 15s - loss: 1.3068 - acc: 0.5023 - val_loss: 1.2936 - val_acc: 0.5025\n",
      "Epoch 57/60\n",
      "1500/1500 [==============================] - 15s - loss: 1.3037 - acc: 0.5030 - val_loss: 1.2943 - val_acc: 0.5027\n",
      "Epoch 58/60\n",
      "1500/1500 [==============================] - 16s - loss: 1.3010 - acc: 0.5036 - val_loss: 1.2949 - val_acc: 0.5026\n",
      "Epoch 59/60\n",
      "1500/1500 [==============================] - 15s - loss: 1.2984 - acc: 0.5042 - val_loss: 1.2948 - val_acc: 0.5028\n",
      "Epoch 60/60\n",
      "1500/1500 [==============================] - 15s - loss: 1.2964 - acc: 0.5047 - val_loss: 1.2948 - val_acc: 0.5029\n"
     ]
    }
   ],
   "source": [
    "print('-'*30)\n",
    "print('Fitting model...')\n",
    "print('-'*30)\n",
    "history = fabric.model.fit(x, \n",
    "                           y, \n",
    "                           validation_data=(x_val, y_val), \n",
    "                           batch_size=100, \n",
    "                           epochs=60, \n",
    "                           verbose=1, \n",
    "                           shuffle=True)\n"
   ]
  },
  {
   "cell_type": "code",
   "execution_count": 4,
   "metadata": {},
   "outputs": [
    {
     "data": {
      "image/png": "[encoded data removed]",
      "text/plain": [
       "<matplotlib.figure.Figure at 0x7fc4a59c7b70>"
      ]
     },
     "metadata": {},
     "output_type": "display_data"
    }
   ],
   "source": [
    "plot_model_history(history)"
   ]
  },
  {
   "cell_type": "code",
   "execution_count": 5,
   "metadata": {},
   "outputs": [],
   "source": [
    "fabric.model.save('trained_models/2x9.h5')"
   ]
  }
 ],
 "metadata": {
  "kernelspec": {
   "display_name": "Python 3",
   "language": "python",
   "name": "python3"
  },
  "language_info": {
   "codemirror_mode": {
    "name": "ipython",
    "version": 3
   },
   "file_extension": ".py",
   "mimetype": "text/x-python",
   "name": "python",
   "nbconvert_exporter": "python",
   "pygments_lexer": "ipython3",
   "version": "3.6.3"
  }
 },
 "nbformat": 4,
 "nbformat_minor": 2
}
